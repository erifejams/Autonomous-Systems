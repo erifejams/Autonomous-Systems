{
 "cells": [
  {
   "cell_type": "code",
   "execution_count": 1,
   "id": "a56180fc",
   "metadata": {},
   "outputs": [
    {
     "name": "stdout",
     "output_type": "stream",
     "text": [
      "Defaulting to user installation because normal site-packages is not writeable\n",
      "Requirement already satisfied: decorator==5.0.9 in /Users/fmd/Library/Python/3.8/lib/python/site-packages (5.0.9)\n"
     ]
    }
   ],
   "source": [
    "!pip3 install decorator==5.0.9\n",
    "\n",
    "# !pip3 install --user decorator==4.3.0 # (ignore waring for availability of newer version)\n",
    "# !pip3 install --user networkx==2.3\n",
    "\n",
    "\n",
    "import numpy as np\n",
    "import pandas as pd\n",
    "import networkx as nx\n",
    "import seaborn as sns\n",
    "\n",
    "import os\n",
    "\n",
    "from pathlib import Path\n",
    "import matplotlib.pyplot as plt\n",
    "import matplotlib.patches as patches\n",
    "\n",
    "seed = 0\n",
    "np.random.seed(seed)"
   ]
  },
  {
   "cell_type": "code",
   "execution_count": 2,
   "id": "164e3bd8",
   "metadata": {},
   "outputs": [
    {
     "name": "stdout",
     "output_type": "stream",
     "text": [
      "/Users/fmd/Desktop/USI/Semester_4/Data_Analytics/Autonomous-Systems\n"
     ]
    }
   ],
   "source": [
    "#Path to the target csv file. This notebook should be in the same folder as the csv-data file\n",
    "\n",
    "path = os.getcwd()\n",
    "print(path)\n"
   ]
  },
  {
   "cell_type": "code",
   "execution_count": 3,
   "id": "c58e7132",
   "metadata": {},
   "outputs": [
    {
     "name": "stdout",
     "output_type": "stream",
     "text": [
      "                Zeus  Hera  Poseidon  Demeter  Athena  Apollo  Artemis  Ares  \\\n",
      "ComputerNumber                                                                 \n",
      "1                  0     0         0        0       1       0        0     0   \n",
      "2                  0     0         0        0       1       0        0     0   \n",
      "3                  0     0         0        1       0       0        0     0   \n",
      "4                  0     0         0        1       0       0        0     0   \n",
      "5                  0     0         0        0       1       0        0     0   \n",
      "...              ...   ...       ...      ...     ...     ...      ...   ...   \n",
      "149                0     0         0        0       1       0        0     1   \n",
      "150                0     0         0        0       0       0        0     0   \n",
      "151                0     0         0        0       1       0        0     1   \n",
      "152                0     0         0        0       1       0        0     1   \n",
      "153                1     0         0        0       0       0        0     0   \n",
      "\n",
      "                Aphrodite  Hephaestus  ...  Hestia  Dionysus  Granite   Mica  \\\n",
      "ComputerNumber                         ...                                     \n",
      "1                       0           0  ...       1         0        0      0   \n",
      "2                       0           0  ...       1         0        0      1   \n",
      "3                       0           0  ...       0         0        1      0   \n",
      "4                       0           1  ...       0         0        1      0   \n",
      "5                       0           1  ...       0         0        1      0   \n",
      "...                   ...         ...  ...     ...       ...      ...    ...   \n",
      "149                     0           0  ...       0         0        1      0   \n",
      "150                     0           0  ...       0         0        0      0   \n",
      "151                     0           0  ...       0         0        1      0   \n",
      "152                     0           1  ...       0         0        1      0   \n",
      "153                     1           0  ...       0         0        0      0   \n",
      "\n",
      "                 Shale   Quartz   Ruby   Atlas   Ryoken   Vulture  \n",
      "ComputerNumber                                                     \n",
      "1                    0        0      0       0        0         0  \n",
      "2                    0        0      0       0        0         0  \n",
      "3                    0        0      0       0        0         0  \n",
      "4                    0        0      0       0        1         1  \n",
      "5                    0        0      0       0        0         1  \n",
      "...                ...      ...    ...     ...      ...       ...  \n",
      "149                  0        0      0       0        0         1  \n",
      "150                  0        0      0       0        0         0  \n",
      "151                  0        0      0       0        0         0  \n",
      "152                  0        0      0       0        0         0  \n",
      "153                  0        0      0       0        0         0  \n",
      "\n",
      "[153 rows x 21 columns]\n"
     ]
    }
   ],
   "source": [
    "#convert the data to a pandas dataframe. \n",
    "data = pd.read_csv(path+'/11_Autonomous_Systems.csv',index_col=0)\n",
    "print(data)"
   ]
  },
  {
   "cell_type": "code",
   "execution_count": 4,
   "id": "d8c74086",
   "metadata": {},
   "outputs": [
    {
     "name": "stdout",
     "output_type": "stream",
     "text": [
      "There are no missing values in the dataset\n"
     ]
    }
   ],
   "source": [
    "#Check that there aren't any missing values in the dataset\n",
    "check=data.isnull().any().sum()\n",
    "if check == 0:\n",
    "    print('There are no missing values in the dataset')\n",
    "else:\n",
    "    print('There are missing values in the dataset')\n"
   ]
  },
  {
   "cell_type": "code",
   "execution_count": 5,
   "id": "0b3468b6",
   "metadata": {},
   "outputs": [
    {
     "name": "stdout",
     "output_type": "stream",
     "text": [
      "All values in the columns are binary\n"
     ]
    }
   ],
   "source": [
    "#Check that all values are binary\n",
    "check = data.columns[data.isin([0,1]).all()]\n",
    "if len(check) == data.shape[1]:\n",
    "    print('All values in the columns are binary')"
   ]
  },
  {
   "cell_type": "code",
   "execution_count": 6,
   "id": "00f32849",
   "metadata": {},
   "outputs": [],
   "source": [
    "#After printing the data we can notice there are 153 rows and 21 columns. The index represent\n",
    "#the computers labeled as numbers and the columns are titled after greek goods and have binary values.\n",
    "\n",
    "#We can infer that the 21 columns represent the servers that computers can connect to. The value one (1)\n",
    "#represents a connection and conversely, the value zero (0) shows no connection with the server. \n",
    "\n",
    "#From here we can \n",
    "#also infer that a computer can only be connected with a server and a server can only be connected with a computer. \n"
   ]
  },
  {
   "cell_type": "code",
   "execution_count": 7,
   "id": "2f844027",
   "metadata": {},
   "outputs": [
    {
     "name": "stdout",
     "output_type": "stream",
     "text": [
      "(21, 21)\n",
      "[[ 0  0  1  0  4  4  2  4 12  2  0  2  3 11  1  4  3  9  4  4  5]\n",
      " [ 0  0  0  0  6  0  0  5  0  0  0  0  0  3  1  0  0  0  0  0  0]\n",
      " [ 1  0  0  0  1  6  0  3  1  0  0  0  0  8  0  2  0  0  2  1  0]\n",
      " [ 0  0  0  0  1  0  0  1  0  2  7  0  1  9  0  0  1  0  0  1  2]\n",
      " [ 4  6  1  1  0  5  2 33  0  6  1  5  5 21  6  1  4  0  1  4  3]\n",
      " [ 4  0  6  0  5  0  2  5  2  2  0  0  0 14  0  2  1  1  2  3  3]\n",
      " [ 2  0  0  0  2  2  0  2  2  0  0  0  0  2  0  1  2  2  1  1  2]\n",
      " [ 4  5  3  1 33  5  2  0  1  4  1  1  4 19  2  3  4  1  3  4  4]\n",
      " [12  0  1  0  0  2  2  1  0  1  0  2  2  6  1  0  2 11  0  5  2]\n",
      " [ 2  0  0  2  6  2  0  4  1  0  3  0  0 14  1  0  1  0  0  4  4]\n",
      " [ 0  0  0  7  1  0  0  1  0  3  0  0  0  7  0  0  1  0  0  1  2]\n",
      " [ 2  0  0  0  5  0  0  1  2  0  0  0  4  0  4  0  0  2  0  0  0]\n",
      " [ 3  0  0  1  5  0  0  4  2  0  0  4  0  0  4  0  0  3  0  0  0]\n",
      " [11  3  8  9 21 14  2 19  6 14  7  0  0  0  0  5  9  3  5  7 14]\n",
      " [ 1  1  0  0  6  0  0  2  1  1  0  4  4  0  0  0  0  2  0  0  0]\n",
      " [ 4  0  2  0  1  2  1  3  0  0  0  0  0  5  0  0  2  0  8  1  2]\n",
      " [ 3  0  0  1  4  1  2  4  2  1  1  0  0  9  0  2  0  1  2  1  4]\n",
      " [ 9  0  0  0  0  1  2  1 11  0  0  2  3  3  2  0  1  0  0  2  0]\n",
      " [ 4  0  2  0  1  2  1  3  0  0  0  0  0  5  0  8  2  0  0  1  2]\n",
      " [ 4  0  1  1  4  3  1  4  5  4  1  0  0  7  0  1  1  2  1  0  3]\n",
      " [ 5  0  0  2  3  3  2  4  2  4  2  0  0 14  0  2  4  0  2  3  0]]\n",
      "33\n"
     ]
    }
   ],
   "source": [
    "#construncting the dataframe\n",
    "col_name=[]\n",
    "for column_headers in data.columns:\n",
    "    col_name.append(column_headers)\n",
    "\n",
    "weighted_adj=[]\n",
    "for i in col_name:\n",
    "    row=[]\n",
    "    for j in col_name:\n",
    "        \n",
    "        a=data.loc[:,i][data[i]==1]\n",
    "        b=data.loc[:,j][data[j]==1]\n",
    "        array1 = a.index.to_numpy()\n",
    "        array2 = b.index.to_numpy()\n",
    "        inter= list(set(array1) & set(array2))\n",
    "        if i!= j:\n",
    "            row.append(len(inter))\n",
    "        else:\n",
    "            row.append(0)\n",
    "        \n",
    "    weighted_adj.append(row)\n",
    "\n",
    "# print(weighted_adj)\n",
    "adj=np.array(weighted_adj)\n",
    "print(adj.shape)\n",
    "print(adj)\n",
    "ind = np.unravel_index(np.argmax(adj, axis=None), adj.shape)\n",
    "\n",
    "print(adj[ind])\n",
    "adj=adj/(adj[ind])\n",
    "\n",
    "    "
   ]
  },
  {
   "cell_type": "code",
   "execution_count": 8,
   "id": "ae544d6e",
   "metadata": {},
   "outputs": [
    {
     "ename": "NetworkXError",
     "evalue": "random_state_index is incorrect",
     "output_type": "error",
     "traceback": [
      "\u001b[0;31m---------------------------------------------------------------------------\u001b[0m",
      "\u001b[0;31mIndexError\u001b[0m                                Traceback (most recent call last)",
      "\u001b[0;32m/opt/anaconda3/lib/python3.8/site-packages/networkx/utils/decorators.py\u001b[0m in \u001b[0;36m_random_state\u001b[0;34m(func, *args, **kwargs)\u001b[0m\n\u001b[1;32m    395\u001b[0m         \u001b[0;32mtry\u001b[0m\u001b[0;34m:\u001b[0m\u001b[0;34m\u001b[0m\u001b[0;34m\u001b[0m\u001b[0m\n\u001b[0;32m--> 396\u001b[0;31m             \u001b[0mrandom_state_arg\u001b[0m \u001b[0;34m=\u001b[0m \u001b[0margs\u001b[0m\u001b[0;34m[\u001b[0m\u001b[0mrandom_state_index\u001b[0m\u001b[0;34m]\u001b[0m\u001b[0;34m\u001b[0m\u001b[0;34m\u001b[0m\u001b[0m\n\u001b[0m\u001b[1;32m    397\u001b[0m         \u001b[0;32mexcept\u001b[0m \u001b[0mTypeError\u001b[0m \u001b[0;32mas\u001b[0m \u001b[0me\u001b[0m\u001b[0;34m:\u001b[0m\u001b[0;34m\u001b[0m\u001b[0;34m\u001b[0m\u001b[0m\n",
      "\u001b[0;31mIndexError\u001b[0m: tuple index out of range",
      "\nThe above exception was the direct cause of the following exception:\n",
      "\u001b[0;31mNetworkXError\u001b[0m                             Traceback (most recent call last)",
      "\u001b[0;32m<ipython-input-8-185a5798c17a>\u001b[0m in \u001b[0;36m<module>\u001b[0;34m\u001b[0m\n\u001b[1;32m      1\u001b[0m \u001b[0mG\u001b[0m \u001b[0;34m=\u001b[0m \u001b[0mnx\u001b[0m\u001b[0;34m.\u001b[0m\u001b[0mfrom_numpy_matrix\u001b[0m\u001b[0;34m(\u001b[0m\u001b[0madj\u001b[0m\u001b[0;34m,\u001b[0m \u001b[0mcreate_using\u001b[0m\u001b[0;34m=\u001b[0m\u001b[0mnx\u001b[0m\u001b[0;34m.\u001b[0m\u001b[0mDiGraph\u001b[0m\u001b[0;34m)\u001b[0m\u001b[0;34m\u001b[0m\u001b[0;34m\u001b[0m\u001b[0m\n\u001b[0;32m----> 2\u001b[0;31m \u001b[0mlayout\u001b[0m \u001b[0;34m=\u001b[0m \u001b[0mnx\u001b[0m\u001b[0;34m.\u001b[0m\u001b[0mspring_layout\u001b[0m\u001b[0;34m(\u001b[0m\u001b[0mG\u001b[0m\u001b[0;34m)\u001b[0m\u001b[0;34m\u001b[0m\u001b[0;34m\u001b[0m\u001b[0m\n\u001b[0m\u001b[1;32m      3\u001b[0m \u001b[0mnx\u001b[0m\u001b[0;34m.\u001b[0m\u001b[0mdraw\u001b[0m\u001b[0;34m(\u001b[0m\u001b[0mG\u001b[0m\u001b[0;34m,\u001b[0m \u001b[0mlayout\u001b[0m\u001b[0;34m)\u001b[0m\u001b[0;34m\u001b[0m\u001b[0;34m\u001b[0m\u001b[0m\n\u001b[1;32m      4\u001b[0m \u001b[0;34m\u001b[0m\u001b[0m\n\u001b[1;32m      5\u001b[0m \u001b[0mnx\u001b[0m\u001b[0;34m.\u001b[0m\u001b[0mdraw_networkx_edge_labels\u001b[0m\u001b[0;34m(\u001b[0m\u001b[0mG\u001b[0m\u001b[0;34m,\u001b[0m \u001b[0mpos\u001b[0m\u001b[0;34m=\u001b[0m\u001b[0mlayout\u001b[0m\u001b[0;34m)\u001b[0m\u001b[0;34m\u001b[0m\u001b[0;34m\u001b[0m\u001b[0m\n",
      "\u001b[0;32m/opt/anaconda3/lib/python3.8/site-packages/decorator.py\u001b[0m in \u001b[0;36mfun\u001b[0;34m(*args, **kw)\u001b[0m\n\u001b[1;32m    229\u001b[0m             \u001b[0;32mif\u001b[0m \u001b[0;32mnot\u001b[0m \u001b[0mkwsyntax\u001b[0m\u001b[0;34m:\u001b[0m\u001b[0;34m\u001b[0m\u001b[0;34m\u001b[0m\u001b[0m\n\u001b[1;32m    230\u001b[0m                 \u001b[0margs\u001b[0m\u001b[0;34m,\u001b[0m \u001b[0mkw\u001b[0m \u001b[0;34m=\u001b[0m \u001b[0mfix\u001b[0m\u001b[0;34m(\u001b[0m\u001b[0margs\u001b[0m\u001b[0;34m,\u001b[0m \u001b[0mkw\u001b[0m\u001b[0;34m,\u001b[0m \u001b[0msig\u001b[0m\u001b[0;34m)\u001b[0m\u001b[0;34m\u001b[0m\u001b[0;34m\u001b[0m\u001b[0m\n\u001b[0;32m--> 231\u001b[0;31m             \u001b[0;32mreturn\u001b[0m \u001b[0mcaller\u001b[0m\u001b[0;34m(\u001b[0m\u001b[0mfunc\u001b[0m\u001b[0;34m,\u001b[0m \u001b[0;34m*\u001b[0m\u001b[0;34m(\u001b[0m\u001b[0mextras\u001b[0m \u001b[0;34m+\u001b[0m \u001b[0margs\u001b[0m\u001b[0;34m)\u001b[0m\u001b[0;34m,\u001b[0m \u001b[0;34m**\u001b[0m\u001b[0mkw\u001b[0m\u001b[0;34m)\u001b[0m\u001b[0;34m\u001b[0m\u001b[0;34m\u001b[0m\u001b[0m\n\u001b[0m\u001b[1;32m    232\u001b[0m     \u001b[0mfun\u001b[0m\u001b[0;34m.\u001b[0m\u001b[0m__name__\u001b[0m \u001b[0;34m=\u001b[0m \u001b[0mfunc\u001b[0m\u001b[0;34m.\u001b[0m\u001b[0m__name__\u001b[0m\u001b[0;34m\u001b[0m\u001b[0;34m\u001b[0m\u001b[0m\n\u001b[1;32m    233\u001b[0m     \u001b[0mfun\u001b[0m\u001b[0;34m.\u001b[0m\u001b[0m__doc__\u001b[0m \u001b[0;34m=\u001b[0m \u001b[0mfunc\u001b[0m\u001b[0;34m.\u001b[0m\u001b[0m__doc__\u001b[0m\u001b[0;34m\u001b[0m\u001b[0;34m\u001b[0m\u001b[0m\n",
      "\u001b[0;32m/opt/anaconda3/lib/python3.8/site-packages/networkx/utils/decorators.py\u001b[0m in \u001b[0;36m_random_state\u001b[0;34m(func, *args, **kwargs)\u001b[0m\n\u001b[1;32m    398\u001b[0m             \u001b[0;32mraise\u001b[0m \u001b[0mnx\u001b[0m\u001b[0;34m.\u001b[0m\u001b[0mNetworkXError\u001b[0m\u001b[0;34m(\u001b[0m\u001b[0;34m\"random_state_index must be an integer\"\u001b[0m\u001b[0;34m)\u001b[0m \u001b[0;32mfrom\u001b[0m \u001b[0me\u001b[0m\u001b[0;34m\u001b[0m\u001b[0;34m\u001b[0m\u001b[0m\n\u001b[1;32m    399\u001b[0m         \u001b[0;32mexcept\u001b[0m \u001b[0mIndexError\u001b[0m \u001b[0;32mas\u001b[0m \u001b[0me\u001b[0m\u001b[0;34m:\u001b[0m\u001b[0;34m\u001b[0m\u001b[0;34m\u001b[0m\u001b[0m\n\u001b[0;32m--> 400\u001b[0;31m             \u001b[0;32mraise\u001b[0m \u001b[0mnx\u001b[0m\u001b[0;34m.\u001b[0m\u001b[0mNetworkXError\u001b[0m\u001b[0;34m(\u001b[0m\u001b[0;34m\"random_state_index is incorrect\"\u001b[0m\u001b[0;34m)\u001b[0m \u001b[0;32mfrom\u001b[0m \u001b[0me\u001b[0m\u001b[0;34m\u001b[0m\u001b[0;34m\u001b[0m\u001b[0m\n\u001b[0m\u001b[1;32m    401\u001b[0m \u001b[0;34m\u001b[0m\u001b[0m\n\u001b[1;32m    402\u001b[0m         \u001b[0;31m# Create a numpy.random.RandomState instance\u001b[0m\u001b[0;34m\u001b[0m\u001b[0;34m\u001b[0m\u001b[0;34m\u001b[0m\u001b[0m\n",
      "\u001b[0;31mNetworkXError\u001b[0m: random_state_index is incorrect"
     ]
    }
   ],
   "source": [
    "G = nx.from_numpy_matrix(adj, create_using=nx.DiGraph)\n",
    "layout = nx.spring_layout(G)\n",
    "nx.draw(G, layout)\n",
    " \n",
    "nx.draw_networkx_edge_labels(G, pos=layout)\n",
    "plt.show()"
   ]
  },
  {
   "cell_type": "code",
   "execution_count": null,
   "id": "95746e29",
   "metadata": {},
   "outputs": [],
   "source": [
    "data.describe()"
   ]
  },
  {
   "cell_type": "code",
   "execution_count": null,
   "id": "fbdee718",
   "metadata": {},
   "outputs": [],
   "source": [
    "heapMapCorrFeature = data.corr()\n",
    "#print(heapMapCorrFeature)\n",
    "print(type(heapMapCorrFeature))\n",
    "\n",
    "\n",
    "aa=heapMapCorrFeature.values.tolist()\n",
    "\n",
    "print(argmin(heapMapCorrFeature))\n"
   ]
  },
  {
   "cell_type": "code",
   "execution_count": null,
   "id": "0212af8f",
   "metadata": {},
   "outputs": [],
   "source": [
    "a=data.loc[:,'Hestia'][data['Hestia']==1]\n",
    "\n",
    "print(a)\n",
    "print(len(a))\n",
    "\n",
    "array1 = a.index.to_numpy()\n",
    "print(array1)\n"
   ]
  },
  {
   "cell_type": "code",
   "execution_count": null,
   "id": "06328c68",
   "metadata": {},
   "outputs": [],
   "source": [
    "a=data.loc[:,'Granite'][data['Granite']==1]\n",
    "\n",
    "print(a)\n",
    "print(len(a))\n",
    "\n",
    "b=a.to_frame(name='ComputerNumber')\n",
    "array2 = a.index.to_numpy()\n",
    "print(array2)\n"
   ]
  },
  {
   "cell_type": "code",
   "execution_count": null,
   "id": "00581fce",
   "metadata": {},
   "outputs": [],
   "source": [
    "array1=set()\n"
   ]
  }
 ],
 "metadata": {
  "kernelspec": {
   "display_name": "Python 3",
   "language": "python",
   "name": "python3"
  },
  "language_info": {
   "codemirror_mode": {
    "name": "ipython",
    "version": 3
   },
   "file_extension": ".py",
   "mimetype": "text/x-python",
   "name": "python",
   "nbconvert_exporter": "python",
   "pygments_lexer": "ipython3",
   "version": "3.8.8"
  }
 },
 "nbformat": 4,
 "nbformat_minor": 5
}
